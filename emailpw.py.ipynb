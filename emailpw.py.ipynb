{
 "cells": [
  {
   "cell_type": "code",
   "execution_count": 1,
   "id": "c7ccedf1",
   "metadata": {},
   "outputs": [
    {
     "name": "stdout",
     "output_type": "stream",
     "text": [
      "Enter a username: nithish@gmail.com\n",
      "Enter a password: Nithish$10\n",
      "Registration successful.\n"
     ]
    },
    {
     "data": {
      "text/plain": [
       "'Nithish$10'"
      ]
     },
     "execution_count": 1,
     "metadata": {},
     "output_type": "execute_result"
    }
   ],
   "source": [
    "import re\n",
    "import os\n",
    "\n",
    "USERNAME_PATTERN = r\"^[^\\d\\W][\\w.-]+@[\\w.-]+\\.[a-zA-Z]{2,6}$\"\n",
    "PASSWORD_PATTERN = r\"^(?=.*[\\d])(?=.*[A-Z])(?=.*[a-z])(?=.*[@#$%^&+=]).{5,16}$\"\n",
    "\n",
    "def validate_username(username):\n",
    "     return bool(re.match(USERNAME_PATTERN, username))\n",
    "validate_username('nithish@gmail.com')\n",
    "\n",
    "def validate_password(password):\n",
    "     return bool(re.match(PASSWORD_PATTERN, password))\n",
    "validate_password('Nithish$10')\n",
    "\n",
    "\n",
    "def register():\n",
    "    username = input(\"Enter a username: \")\n",
    "    password = input(\"Enter a password: \")\n",
    "   \n",
    "    if not validate_username(username):\n",
    "        print(\"Invalid username.\")\n",
    "        return\n",
    "    if not validate_password(password):\n",
    "        print(\"Invalid password.\")\n",
    "        return\n",
    "    with open('userdoc.txt', \"x\"):\n",
    "        f=open('userdoc.txt','a')\n",
    "        f.write(f\"{username},{password}\\n\")\n",
    "    print(\"Registration successful.\")\n",
    "   \n",
    "register()\n",
    "\n",
    "def login():\n",
    "    username = input(\"Enter your username: \")N\n",
    "    password = input(\"Enter your password: \")\n",
    "   \n",
    "    with open('userdoc.txt', \"r\") as f:\n",
    "        for line in f:\n",
    "            line = line.strip()\n",
    "            stored_username, stored_password = line.split(\",\")\n",
    "            if username == stored_username and password == stored_password:\n",
    "                print(\"Login successful.\")\n",
    "                return\n",
    "    print(\"Login failed. Invalid username or password.\")\n",
    "\n",
    "def retrieve_password(username,password):\n",
    "    with open('userdoc.txt', \"r\") as f:\n",
    "        for line in f:\n",
    "            line = line.strip()\n",
    "            stored_username, stored_password = line.split(\",\")\n",
    "            if username == stored_username and password!=stored_password:\n",
    "                return stored_password\n",
    "retrieve_password(\"nithish@gmail.com\",\"nithi10\")\n"
   ]
  },
  {
   "cell_type": "code",
   "execution_count": null,
   "id": "ae03922b",
   "metadata": {},
   "outputs": [],
   "source": []
  }
 ],
 "metadata": {
  "kernelspec": {
   "display_name": "Python 3 (ipykernel)",
   "language": "python",
   "name": "python3"
  },
  "language_info": {
   "codemirror_mode": {
    "name": "ipython",
    "version": 3
   },
   "file_extension": ".py",
   "mimetype": "text/x-python",
   "name": "python",
   "nbconvert_exporter": "python",
   "pygments_lexer": "ipython3",
   "version": "3.9.13"
  }
 },
 "nbformat": 4,
 "nbformat_minor": 5
}
